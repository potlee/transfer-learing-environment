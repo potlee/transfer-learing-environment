{
 "cells": [
  {
   "cell_type": "code",
   "execution_count": 5,
   "metadata": {
    "collapsed": true
   },
   "outputs": [],
   "source": [
    "import torch\n",
    "from torch import nn\n",
    "import torchvision\n",
    "import torch.optim as optim\n",
    "from torchvision import transforms\n",
    "from torch.utils.data import DataLoader"
   ]
  },
  {
   "cell_type": "code",
   "execution_count": 6,
   "metadata": {
    "scrolled": true
   },
   "outputs": [
    {
     "name": "stdout",
     "output_type": "stream",
     "text": [
      "Files already downloaded and verified\n",
      "Files already downloaded and verified\n"
     ]
    }
   ],
   "source": [
    "tr = transforms.Compose([\n",
    "    transforms.Resize((240,240)),\n",
    "    transforms.ToTensor(),\n",
    "])\n",
    "\n",
    "vgg = torchvision.models.vgg16(pretrained=True, num_classes=1000)\n",
    "cifar_train = torchvision.datasets.cifar.CIFAR10('./cifar', download=True, transform=tr, train=True)\n",
    "cifar_test = torchvision.datasets.cifar.CIFAR10('./cifar', download=True, transform=tr, train=False)"
   ]
  },
  {
   "cell_type": "code",
   "execution_count": 7,
   "metadata": {
    "collapsed": true
   },
   "outputs": [],
   "source": [
    "vgg.classifier = nn.Linear(in_features=25088, out_features=10, bias=True)\n",
    "\n",
    "vgg = vgg.cuda()\n",
    "criterion = torch.nn.CrossEntropyLoss()\n",
    "feature_optimizer = optim.Adam(vgg.features.parameters())\n",
    "clasifier_optimizer = optim.Adam(vgg.classifier.parameters())"
   ]
  },
  {
   "cell_type": "code",
   "execution_count": 10,
   "metadata": {},
   "outputs": [
    {
     "name": "stdout",
     "output_type": "stream",
     "text": [
      "batch accuracy:  0.0\n",
      "test accuracy:  1.0\n",
      "loss:  2.3114304542541504\n",
      "batch accuracy:  0.0\n",
      "test accuracy:  2.0\n",
      "loss:  3.211589813232422\n"
     ]
    }
   ],
   "source": [
    "dl_train = DataLoader(cifar_train, batch_size=25, shuffle=True, num_workers=1)\n",
    "dl_test = DataLoader(cifar_test, batch_size=25, shuffle=True, num_workers=1)\n",
    "\n",
    "for epoch, (x,y) in enumerate(dl_train):\n",
    "    x, y = x.cuda(), y.cuda()\n",
    "\n",
    "    test = next(enumerate(dl_test))[1]\n",
    "    y_test = test[1].cuda()\n",
    "    x_test = test[0].cuda()\n",
    "    \n",
    "    clasifier_optimizer.zero_grad()\n",
    "    \n",
    "    y_pred = vgg(x)\n",
    "    y_pred_test = vgg(x_test)\n",
    "    \n",
    "    loss = criterion(y_pred, y)\n",
    "    _, argmax = y_pred.max(1)\n",
    "    _, argmax_test = y_pred_test.max(1)\n",
    "    \n",
    "    print('batch accuracy: ', 4* float((argmax == y).sum()))\n",
    "    print('test accuracy: ', 4*float((argmax_test == y_test).sum()))\n",
    "\n",
    "    loss.backward()\n",
    "    clasifier_optimizer.step()\n",
    "    \n",
    "    print('loss: ', float(loss))\n",
    "    \n",
    "    if epoch == 10:\n",
    "        break"
   ]
  }
 ],
 "metadata": {
  "kernelspec": {
   "display_name": "Python 3",
   "language": "python",
   "name": "python3"
  },
  "language_info": {
   "codemirror_mode": {
    "name": "ipython",
    "version": 3
   },
   "file_extension": ".py",
   "mimetype": "text/x-python",
   "name": "python",
   "nbconvert_exporter": "python",
   "pygments_lexer": "ipython3",
   "version": "3.6.3"
  }
 },
 "nbformat": 4,
 "nbformat_minor": 2
}
